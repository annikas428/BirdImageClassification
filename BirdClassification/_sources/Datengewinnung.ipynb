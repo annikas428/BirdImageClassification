{
 "cells": [
  {
   "cell_type": "markdown",
   "metadata": {},
   "source": [
    "# Notebook 1 - Datengewinnung\n",
    "von Annika Scheug und Oliver Schabe"
   ]
  },
  {
   "cell_type": "markdown",
   "metadata": {},
   "source": [
    "Da es Im Internet bereits eine Vielzahl an Bilderdatensets und Bilderdatenbanken mit darauf aufbauenden Lösungen gibt, haben wir uns dazu entschieden, unser eigenes Datenset für eine Bilderklassifikation zu erstellen.  \n",
    "Dazu nutzen wir Selenium, ein open source Tool zur Automatisierung von Browseroperationen.  \n",
    "Mit Hilfe von Selenium durchsuchen wir Google Bilder automatisiert nach bestimmten Suchbegriffen und speichern die gefunden Bildern lokal auf unserem Rechner ab.  \n",
    "  \n",
    "Auf Basis des so generierten Datensets soll dann ein Neuronales Netz zur Erkennung von Bildern trainiert werden. Als zu klassifizierende Objekte haben wir uns für verschiedene Vogelarten entschieden.  \n",
    "\n",
    "Die Interclass Varianz soll dabei nicht zu hoch sein, um eine angemessene Schwierigkeit sicherzustellen (da alles Vögel sind und in der Regel Schnabel, Flügel etc. haben). Um ein gutes Modell zu entwicklen, sollte die Interclass Varianz allrdings auch nicht zu niedrig sein, da sonst die richtige Klassifizierung sehr schwierig werden könnte. \n",
    "\n",
    "Auf Basis dieser Überlegung haben wir uns für folgende 9 Vogelarten entschieden, welche viele Merkmale wie Flügel und Schnäbel teilen, sich allerdings optisch stark genug voneinander unterscheiden um im Rahmen dieses Projektes ein gut funktionierendes Modell zu entwicklen:\n",
    "* eagle (Adler)  \n",
    "*tit (Meise)  \n",
    "*owl (Eule)  \n",
    "*tucan (Tukan)  \n",
    "*flamingo (Flamingo)    \n",
    "*ostrich (Vogelstrauß)  \n",
    "*cockatoo (Kakadu)  \n",
    "*chicken (Huhn) \n",
    "*penguin (Pinguin) \n",
    "\n",
    "Die Intraclass Varianz unterscheidet sich dabei bei den verschiedenen Klassen teilweise stark. Bei Adlern bspw. gibt es viel mehr Unterarten, die sich auch optisch voneinander Unterscheiden als bei Flamingos. Dies wird sich voraussichtlich in den Ergebnissen des Modells wiederspiegeln. Vermutlich werden Klassen mit höherer Intraclass Varianz schlechtere Ergebnisse erzielen.  \n",
    "  \n",
    "![AdlerVarianz](AdlerVarianz.PNG)"
   ]
  },
  {
   "cell_type": "markdown",
   "metadata": {},
   "source": [
    "## Setup"
   ]
  },
  {
   "cell_type": "markdown",
   "metadata": {},
   "source": [
    "Zuerst werden die benötigten packages und libraries installiert bzw importiert."
   ]
  },
  {
   "cell_type": "code",
   "execution_count": 1,
   "metadata": {},
   "outputs": [],
   "source": [
    "# Installieren von Selenium\n",
    "#pip install selenium"
   ]
  },
  {
   "cell_type": "code",
   "execution_count": 2,
   "metadata": {},
   "outputs": [],
   "source": [
    "#Importieren von Selenium Libraries\n",
    "from selenium import webdriver\n",
    "from selenium.webdriver.support.ui import WebDriverWait\n",
    "from selenium.webdriver.common.by import By\n",
    "from selenium.webdriver.support import expected_conditions as EC\n",
    "from selenium.webdriver.common.keys import Keys\n",
    "import time"
   ]
  },
  {
   "cell_type": "markdown",
   "metadata": {},
   "source": [
    "## Erzeugung des Datasets"
   ]
  },
  {
   "cell_type": "markdown",
   "metadata": {},
   "source": [
    "Hier wird zunächst eine Liste erstellt, welche alle Suchbegriffe enthält, zu denen Bilder gesucht werden sollen."
   ]
  },
  {
   "cell_type": "code",
   "execution_count": 3,
   "metadata": {},
   "outputs": [
    {
     "data": {
      "text/plain": [
       "['eagle',\n",
       " 'tit',\n",
       " 'owl',\n",
       " 'tucan',\n",
       " 'flamingo',\n",
       " 'ostrich',\n",
       " 'cockatoo',\n",
       " 'chicken',\n",
       " 'penguin']"
      ]
     },
     "execution_count": 3,
     "metadata": {},
     "output_type": "execute_result"
    }
   ],
   "source": [
    "# List erstellen von zu klassifizierenden Vögeln\n",
    "Labels = [\"eagle\",\"tit\",\"owl\",\"tucan\",\"flamingo\",\"ostrich\",\"cockatoo\",\"chicken\",\"penguin\"]\n",
    "Labels"
   ]
  },
  {
   "cell_type": "markdown",
   "metadata": {},
   "source": [
    "Der folgende Code durchsucht mit Hilfe von Selenium Google Bilder nach den definierten Suchbegriffen und speichert die gefundenen Bilder lokal ab. Die automatisierte Navigation durch den Chrome Browser erfolgt auf Basis des \"xpath\".  \n",
    "Der xpath gibt die genaue Platzierung eines Objekts (bspw. Google Suche Eingabefeld) im html Quellcode an. \n",
    "  \n",
    "Details zur Methode sind im Code direkt kommentiert."
   ]
  },
  {
   "cell_type": "code",
   "execution_count": 4,
   "metadata": {},
   "outputs": [],
   "source": [
    "# Definition einer Funktion zum Durchscrollen der Google Bilder Suchergebnisse\n",
    "def scroll_to_bottom():\n",
    "\n",
    "\tlast_height = driver.execute_script('\\\n",
    "\treturn document.body.scrollHeight')\n",
    "\n",
    "\twhile True:\n",
    "\t\tdriver.execute_script('\\\n",
    "\t\twindow.scrollTo(0,document.body.scrollHeight)')\n",
    "\n",
    "\t\t# kurz warten um Ergebnisse laden zu lassen\n",
    "\t\ttime.sleep(3)\n",
    "\n",
    "\t\tnew_height = driver.execute_script('\\\n",
    "\t\treturn document.body.scrollHeight')\n",
    "\n",
    "\t\t# klicken von \"weitere Ergebnisse anzeigen\"\n",
    "\t\ttry:\n",
    "\t\t\tdriver.find_element(\"xpath\", \"/html/body/div[2]/c-wiz/div[3]/div[1]/div/div/div/div[1]/div[2]/div[2]/input\").click()\n",
    "\n",
    "\t\t\t# kurz warten um Ergebnisse laden zu lassen\n",
    "\t\t\ttime.sleep(1.5)\n",
    "\n",
    "\t\texcept:\n",
    "\t\t\tpass\n",
    "\n",
    "\t\t# Prüfen ob das Ende der Seite erreicht wurde\n",
    "\t\tif new_height == last_height:\n",
    "\t\t\tbreak\n",
    "\n",
    "\t\tlast_height = new_height\n"
   ]
  },
  {
   "cell_type": "code",
   "execution_count": null,
   "metadata": {},
   "outputs": [],
   "source": [
    "# Schleife zum automatiserten Suchen und Downloaden von Google Bilder Suchergebnissen zu den definierten Klassen:\n",
    "for birds in Labels:\n",
    "\n",
    "\t# webdriver instance erstellen\n",
    "\tdriver = webdriver.Chrome(r'..\\ProjectBirdClassification\\chromedriver1.exe')\n",
    "\tdriver.implicitly_wait(3)\n",
    "\t# Browser Fenster maximieren\n",
    "\tdriver.maximize_window()\n",
    "\n",
    "\n",
    "\t# Google Images öffnen\n",
    "\tdriver.get('https://images.google.com/')\n",
    "\n",
    "\n",
    "\t#Cookie Window akzeptieren\n",
    "\tdriver.find_element(\"xpath\", '/html/body/div[2]/div[2]/div[3]/span/div/div/div/div[3]/div[1]/button[2]/div').click()\n",
    "\n",
    "\n",
    "\t# Suchleiste auswählen\n",
    "\tbox = driver.find_element(\"xpath\", '/html/body/div[1]/div[3]/form/div[1]/div[1]/div[1]/div/div[2]/input')\n",
    "\n",
    "\t# Suchanfrage eingeben (Vogelarten). Um die Qualität der Suchergebnisse zu erhöhen,  \n",
    "    # wird außerdem zum Name des Vogels noch der string \"bird photo\" ergänzt\n",
    "\tbox.send_keys(birds + ' bird photo')\n",
    "\n",
    "\t# Suchanfrage abschicken\n",
    "\tbox.send_keys(Keys.ENTER)\n",
    "\n",
    "\t# Aufrufen der zuvor definierten Scroll Funktion, um mehr als nur die ersten Suchergebniss runterladen zu können\n",
    "\tscroll_to_bottom()\n",
    "\n",
    "\n",
    "\t# Schleife um die ersten 600 gefunden Bilder ja Klasse zu speichern\n",
    "\tfor i in range(1, 1000):\n",
    "\n",
    "\t\ttry:\n",
    "\t\t\ttry:\n",
    "\t\t\t\t# XPath der Bilder, dieser ändert sich nur an einer Stelle und zählt von 1 aufsteigend durch  \n",
    "                # (Erstes Suchergebnis hat die 1, zweites die 2 usw. an der entsprechenden Stelle im Pfad)\n",
    "\t\t\t\tprint(\"//*[@id='islrg']/div[1]/div[\" +\n",
    "\t\t\t\t\tstr(i) + \"]/a[1]/div[1]/img\")\n",
    "\t\t\t\timg = driver.find_element(\"xpath\",\n",
    "\t\t\t\t\t'//*[@id=\"islrg\"]/div[1]/div[' +\n",
    "\t\t\t\t\tstr(i) + ']/a[1]/div[1]/img')\n",
    "\n",
    "\t\t\texcept:\n",
    "\t\t\t\tprint(\"Element konnte nicht gefunden werden\")\n",
    "\t\t\t# Pfad, unter dem die Bilder lokal abgespeichert werden sollen\n",
    "\t\t\timg.screenshot(r'..\\ProjectBirdClassification\\Bilder\\\\' +\n",
    "\t\t\t\t\t\tbirds + ' (' + str(i) + ').png')\n",
    "\n",
    "\t\t\t# kurz warten um Error zu vermeiden\n",
    "\t\t\ttime.sleep(0.2)\n",
    "\t\texcept:\n",
    "\t\t\tprint(\"mistake\")\n",
    "\t\t\t# Wenn Bild nicht gefunden und gespeichert werden kann, gehen wir weiter zum nächsten Bild\n",
    "\t\t\tcontinue\n",
    "            \n",
    "\t# Schließen des Browsers\n",
    "\tdriver.close()\n"
   ]
  },
  {
   "cell_type": "markdown",
   "metadata": {},
   "source": [
    "Mit der hier verwendeten Methode können auch einfach für andere Klassifikationsaufgaben Bilder gewonnen werden um Modelle zur Erkennung von anderen Objekten zu trainieren. Es müssen lediglich die Suchbegriffe in der oben definierten Liste ausgetauscht werden.\n",
    "\n",
    "Nachteil der verwendeten Methode ist die teilweise durchmischte Qualität der Suchergebnisse. Immer wieder tauchen Bilder unter dem Suchbegriff auf, welche nicht das gesuchte Objekt abbilden oder in sehr abgeänderter/abstrakter Form. Diese müssen dann manuell entfernt werden, um eine hohe Qualität das Datensets sicherzsutellen.  \n",
    "\n",
    "Die hier gewonnen Bilder sollen nun in einem nächste Notebook zum Trainieren eines CNN verwendet werden."
   ]
  }
 ],
 "metadata": {
  "kernelspec": {
   "display_name": "Python 3.9.12 ('base')",
   "language": "python",
   "name": "python3"
  },
  "language_info": {
   "codemirror_mode": {
    "name": "ipython",
    "version": 3
   },
   "file_extension": ".py",
   "mimetype": "text/x-python",
   "name": "python",
   "nbconvert_exporter": "python",
   "pygments_lexer": "ipython3",
   "version": "3.9.12"
  },
  "vscode": {
   "interpreter": {
    "hash": "4bd3cc4cae3da8f4aad5e6bfe553f3e09c2ca2a0360d01d66347d25645e24c96"
   }
  }
 },
 "nbformat": 4,
 "nbformat_minor": 2
}
